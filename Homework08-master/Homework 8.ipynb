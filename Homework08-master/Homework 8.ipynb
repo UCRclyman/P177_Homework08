{
 "cells": [
  {
   "cell_type": "markdown",
   "metadata": {},
   "source": [
    "# Homework 8: Magnetization, Energy in the Ising Model\n",
    "\n",
    "Physics 177, Spring 2017 (Prof. Tanedo)  \n",
    "Due: Friday, June 16    \n",
    "\n",
    "*Your Name*"
   ]
  },
  {
   "cell_type": "markdown",
   "metadata": {},
   "source": [
    "# Problem 0\n",
    "\n",
    "Please be sure to fill out:\n",
    "1. The course survey (e-mailed directly to you; e-mail Prof. Tanedo if you have not received this!)\n",
    "2. iEval course evaluation (http://ieval.ucr.edu)\n",
    "3. Sign up for a \"final interview\": https://doodle.com/poll/xyb7dgcupq9gwaqm"
   ]
  },
  {
   "cell_type": "markdown",
   "metadata": {},
   "source": [
    "# Problem 1"
   ]
  },
  {
   "cell_type": "markdown",
   "metadata": {
    "collapsed": true
   },
   "source": [
    "Code the Ising model to study the phase transition at $T_c\\approx 2.27$ (in units where $J = k_B = 1$). Use the Metropolis algorithm for Markov Chain Monte Carlo, as we set up in Lecture 18: https://github.com/Physics177-2017/Lec18-Ising-Model/blob/master/Lec18-IsingModel.ipynb\n",
    "\n",
    "**Make the following plots:**\n",
    "1. Magnetization as a function of temperature\n",
    "2. Energy as a function of temperature\n",
    "\n",
    "You may define magnetization as the total spin of the system (sum of the spins of each node). You may define the energy as the sum of $\\Delta E_i$ for each spin $i$. Recall that \n",
    "\n",
    "$$\\Delta E_i = -\\sum_{j} s_is_j$$\n",
    "\n",
    "(Note: actually, you should define $E = \\sum_i \\Delta E_i/4$, but we don't care about the overall pre-factors, we just want to see the qualitative shapes of the plots.)\n",
    "\n",
    "**Guidelines**\n",
    "You should be able to get reasonable results for:\n",
    "* A $20\\times 20$ array.\n",
    "* Sampling 1000 temperature points between $T=1$ and $T=4$\n",
    "* Allowing 2000 Monte Carlo steps to draw a sample.\n",
    "\n",
    "*Pro-tip:* One way to improve your calculations is to let your Monte Carlo \"equilibrate\" before recording data. In other words, your Markov Chain algorithm should be:\n",
    "\n",
    "1. Pick a random configuration\n",
    "2. Run for 2000 steps (without recording data)\n",
    "3. Perform your Markov Chain algorithm as usual, using the configuration at the end of step 2 as your initial configuration.\n",
    "\n",
    "\n",
    "Code this up on your own, you may use the code from Lecture 18 as a starting point. \n",
    "\n",
    "The *answers* are available in a notebook written by Rajesh Singh:\n",
    "http://rajeshrinet.github.io/blog/2014/ising-model/\n",
    "... you may use that notebook (in particular, the plots) as a guideline for what your code should produce. "
   ]
  }
 ],
 "metadata": {
  "kernelspec": {
   "display_name": "Python 3",
   "language": "python",
   "name": "python3"
  },
  "language_info": {
   "codemirror_mode": {
    "name": "ipython",
    "version": 3
   },
   "file_extension": ".py",
   "mimetype": "text/x-python",
   "name": "python",
   "nbconvert_exporter": "python",
   "pygments_lexer": "ipython3",
   "version": "3.4.3"
  }
 },
 "nbformat": 4,
 "nbformat_minor": 2
}
